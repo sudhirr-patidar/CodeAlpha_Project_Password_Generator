{
  "nbformat": 4,
  "nbformat_minor": 0,
  "metadata": {
    "colab": {
      "provenance": []
    },
    "kernelspec": {
      "name": "python3",
      "display_name": "Python 3"
    },
    "language_info": {
      "name": "python"
    }
  },
  "cells": [
    {
      "cell_type": "code",
      "source": [
        "import random\n",
        "import string\n",
        "import time\n"
      ],
      "metadata": {
        "id": "a0FpxE77LGyb"
      },
      "execution_count": 9,
      "outputs": []
    },
    {
      "cell_type": "code",
      "execution_count": 11,
      "metadata": {
        "colab": {
          "base_uri": "https://localhost:8080/"
        },
        "id": "e4tgx4bxLB5p",
        "outputId": "f9b6ee52-e023-40d6-be7d-cd8717db25b8"
      },
      "outputs": [
        {
          "output_type": "stream",
          "name": "stdout",
          "text": [
            "WZG=H`b4+P\n"
          ]
        }
      ],
      "source": [
        "def generate_password(length):\n",
        "  # Generate a random password of the given length\n",
        "  password = \"\"\n",
        "  for i in range(length):\n",
        "    # Generate a random character and add it to the password\n",
        "    password += random.choice(string.ascii_letters + string.digits + string.punctuation)\n",
        "  return password\n",
        "\n",
        "# Test the function\n",
        "password = generate_password(10)\n",
        "print(password)"
      ]
    },
    {
      "cell_type": "code",
      "source": [],
      "metadata": {
        "id": "pDUBvy_6Ladv"
      },
      "execution_count": 2,
      "outputs": []
    }
  ]
}